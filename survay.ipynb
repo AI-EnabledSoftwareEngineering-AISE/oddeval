{
 "cells": [
  {
   "cell_type": "code",
   "execution_count": 34,
   "metadata": {},
   "outputs": [],
   "source": [
    "import pandas as pd"
   ]
  },
  {
   "cell_type": "code",
   "execution_count": null,
   "metadata": {},
   "outputs": [],
   "source": [
    "def process_survey_data(file_path):\n",
    "    # Load the CSV file\n",
    "    survey_data = pd.read_csv(file_path)\n",
    "\n",
    "    # Extract header as a list\n",
    "    headers = survey_data.columns.tolist()\n",
    "\n",
    "    # Find the index where questions start\n",
    "    start_index = headers.index('Familiarity with Lane Marking Specifications:') + 1\n",
    "\n",
    "    # Categorize questions based on repeating pattern\n",
    "    spec_questions = headers[start_index:]\n",
    "    specifications = [spec_questions[i:i+4] for i in range(0, len(spec_questions), 4)]\n",
    "\n",
    "    # Function to convert values like \"1 - Not specific at all\" to numeric ratings\n",
    "    def convert_to_numeric(series):\n",
    "        return series.replace({\n",
    "            r\"1\\s*-\\s*.*\": 1,\n",
    "            r\"2\\s*-\\s*.*\": 2,\n",
    "            r\"3\\s*-\\s*.*\": 3,\n",
    "            r\"4\\s*-\\s*.*\": 4,\n",
    "            r\"5\\s*-\\s*.*\": 5\n",
    "        }, regex=True).astype(float)\n",
    "\n",
    "    # Initialize summary table\n",
    "    summary = []\n",
    "\n",
    "    # Process each specification group\n",
    "    for i, questions in enumerate(specifications):\n",
    "        spec_name = f\"Specification {i+1}\"\n",
    "        \n",
    "        # Convert ratings to numeric\n",
    "        specificity = convert_to_numeric(survey_data[questions[0]])\n",
    "        clarity = convert_to_numeric(survey_data[questions[1]])\n",
    "        adaptability = convert_to_numeric(survey_data[questions[2]])\n",
    "        \n",
    "        # Drop NaNs and log how many were dropped for each category\n",
    "        specificity_non_na = specificity.dropna()\n",
    "        clarity_non_na = clarity.dropna()\n",
    "        adaptability_non_na = adaptability.dropna()\n",
    "        \n",
    "        # print(f\"{spec_name} - Specificity NaNs dropped: {specificity.isna().sum() - specificity_non_na.isna().sum()}\")\n",
    "        # print(f\"{spec_name} - Clarity NaNs dropped: {clarity.isna().sum() - clarity_non_na.isna().sum()}\")\n",
    "        # print(f\"{spec_name} - Adaptability NaNs dropped: {adaptability.isna().sum() - adaptability_non_na.isna().sum()}\")\n",
    "        \n",
    "        # Calculate averages without NaNs\n",
    "        spec_avg = specificity_non_na.mean()\n",
    "        clarity_avg = clarity_non_na.mean()\n",
    "        adapt_avg = adaptability_non_na.mean()\n",
    "        \n",
    "        # Compile feedback themes\n",
    "        feedback = survey_data[questions[3]].dropna().tolist()\n",
    "        feedback_themes = \"; \".join(feedback) if feedback else \"No major comments\"\n",
    "\n",
    "        # Append to summary table\n",
    "        summary.append({\n",
    "            'Specification Group': spec_name,\n",
    "            'Specificity Avg': round(spec_avg, 2),\n",
    "            'Clarity Avg': round(clarity_avg, 2),\n",
    "            'Adaptability Avg': round(adapt_avg, 2),\n",
    "            'Key Feedback Themes': feedback_themes\n",
    "        })\n",
    "\n",
    "    # Convert summary to DataFrame for easy display\n",
    "    summary_df = pd.DataFrame(summary)\n",
    "    return summary_df\n",
    "\n",
    "# Example usage:\n",
    "# summary_df = process_survey_data('lane_marking.csv')\n",
    "# summary_df\n"
   ]
  },
  {
   "cell_type": "code",
   "execution_count": 36,
   "metadata": {},
   "outputs": [],
   "source": [
    "summary_df = process_survey_data('lane_marking.csv')\n",
    "overall_averages = summary_df[['Specificity Avg', 'Clarity Avg', 'Adaptability Avg']].mean()\n",
    "\n",
    "# Concatenate all Key Feedback Themes into a single list\n",
    "all_feedback_themes = summary_df['Key Feedback Themes'].tolist()"
   ]
  },
  {
   "cell_type": "code",
   "execution_count": 37,
   "metadata": {},
   "outputs": [
    {
     "data": {
      "text/plain": [
       "Specificity Avg     3.753333\n",
       "Clarity Avg         3.618333\n",
       "Adaptability Avg    3.647500\n",
       "dtype: float64"
      ]
     },
     "execution_count": 37,
     "metadata": {},
     "output_type": "execute_result"
    }
   ],
   "source": [
    "overall_averages"
   ]
  },
  {
   "cell_type": "code",
   "execution_count": 33,
   "metadata": {},
   "outputs": [
    {
     "data": {
      "text/plain": [
       "['If the specification is for human then it is clear. If this is for machine vision then it is not; Requirements shown only deal with detection but nothing about reaction.  ',\n",
       " 'Same as before, the specification is good for human but not for machine vision; Double Yellow Lines means \"double solid yellow lines\"?  Will that need to be specified?  Does broken yellow line has length information?',\n",
       " 'Besides width, does length need to be considered to make it a solid continuous edge?',\n",
       " 'There are various designs of crosswalk marking and it should be captured somewhere in the requirement.  ',\n",
       " 'Can visibility and reflectivity be combined as one requirement?',\n",
       " 'Not sure what a chevron pattern is; Width is only part of the marking and other additional parameters might be needed.',\n",
       " 'No major comments',\n",
       " 'No definition of what \"dotted\" line mean?',\n",
       " 'What color is the line?',\n",
       " '\"Black for contrast on light-colored pavements.\" does this mean that black line replaces all other color lines for light-colored pavement?  Is there color (e.g. rgb) values that define different color or a range?  Color fade in 3 years without proper maintenance.  Just white, yellow and so on are very vague for color description.',\n",
       " 'What about letter width?  ',\n",
       " 'What are parameters that define a \"raised pavement marker\"?']"
      ]
     },
     "execution_count": 33,
     "metadata": {},
     "output_type": "execute_result"
    }
   ],
   "source": [
    "all_feedback_themes"
   ]
  },
  {
   "cell_type": "code",
   "execution_count": 38,
   "metadata": {},
   "outputs": [
    {
     "data": {
      "text/plain": [
       "Specificity Avg     3.600667\n",
       "Clarity Avg         3.611333\n",
       "Adaptability Avg    3.444000\n",
       "dtype: float64"
      ]
     },
     "execution_count": 38,
     "metadata": {},
     "output_type": "execute_result"
    }
   ],
   "source": [
    "summary_df = process_survey_data('roadway_users.csv')\n",
    "overall_averages = summary_df[['Specificity Avg', 'Clarity Avg', 'Adaptability Avg']].mean()\n",
    "\n",
    "# Concatenate all Key Feedback Themes into a single list\n",
    "all_feedback_themes = summary_df['Key Feedback Themes'].tolist()\n",
    "overall_averages"
   ]
  },
  {
   "cell_type": "code",
   "execution_count": 39,
   "metadata": {},
   "outputs": [
    {
     "data": {
      "text/plain": [
       "['stop distance is based on decel.  Need to define what kind of braking is required.  2meter buffer is from what object to what object?  How close does the pedestrian need to be close to the shoulder to warn the driver?  After you pass the crosswalk, does \"within 5 radius\" still apply?  Better to define what \"small size\" mean.  Nothing mentioned about visibility and other factors.',\n",
       " 'Does 1.5 meter apply for the condition to overtake or while overtake or after overtake?  What response is required for the \"response time\", braking, alert driver, etc?',\n",
       " 'Is \"detect\" and \"identify\" interchangeable?  Nothing about weather or other conditions.',\n",
       " 'How close to the shoulder.  How fast to reduce to 10km/h.  Nothing about weather or other conditions.',\n",
       " 'What is the \"following distance\"?  Reaction time refers to braking?  20 meter range is for same lane of travel?  Nothing about the weather and other conditions.',\n",
       " '10 meter range is for same lane of travel?  Nothing about the weather and other conditions.',\n",
       " 'If there is no vehicle or passengers in the transit area, why do you need to reduce speed?',\n",
       " 'No weather condition.  What does \"slow moving\" mean?',\n",
       " 'Do \"roadwork\" sign and cones define the construction zone?  Having a requirement about reducing the speed  to 20km/h when detecting construction zone conflict with following speed limit posted for construction zone?',\n",
       " 'How close to the shoulder?  How far/wide this \"buffer\" needs to be?  Besides low-light condition, any other condition?',\n",
       " 'Why do you need to define the speed reduction when you have following distance?  No weather or other conidtions.',\n",
       " 'What is the \"safe\" passing?  What is the passing clearance you need (this applies to narrow lane as well). No weather or other conditions.',\n",
       " 'same comments as from all previous questions.',\n",
       " 'How fast can the vehicle travel for this 1.5m buffer?  Why does the vehicle need to slow down just because it detects scooter user?',\n",
       " '2 meter clearance from where to where/']"
      ]
     },
     "execution_count": 39,
     "metadata": {},
     "output_type": "execute_result"
    }
   ],
   "source": [
    "all_feedback_themes"
   ]
  }
 ],
 "metadata": {
  "kernelspec": {
   "display_name": "lavistest",
   "language": "python",
   "name": "python3"
  },
  "language_info": {
   "codemirror_mode": {
    "name": "ipython",
    "version": 3
   },
   "file_extension": ".py",
   "mimetype": "text/x-python",
   "name": "python",
   "nbconvert_exporter": "python",
   "pygments_lexer": "ipython3",
   "version": "3.8.18"
  }
 },
 "nbformat": 4,
 "nbformat_minor": 2
}
